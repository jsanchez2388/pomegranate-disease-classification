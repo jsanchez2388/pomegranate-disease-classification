{
 "cells": [
  {
   "cell_type": "code",
   "execution_count": null,
   "id": "a04d7c59",
   "metadata": {},
   "outputs": [],
   "source": [
    "import torch\n",
    "import timm\n",
    "from torchvision import transforms\n",
    "from PIL import Image\n",
    "import matplotlib.pyplot as plt\n",
    "import numpy as np"
   ]
  },
  {
   "cell_type": "code",
   "execution_count": null,
   "id": "fe63d727",
   "metadata": {},
   "outputs": [],
   "source": [
    "# Class names in the same order used during training\n",
    "class_names = ['Alternaria','Anthracnose', 'Bacterial_Blight', 'Cercospora', 'Healthy']"
   ]
  },
  {
   "cell_type": "code",
   "execution_count": null,
   "id": "efb00ca4",
   "metadata": {},
   "outputs": [],
   "source": [
    "# Set device\n",
    "device = torch.device('cuda:0' if torch.cuda.is_available() else 'cpu')\n",
    "print(f\"Using device: {device}\")"
   ]
  },
  {
   "cell_type": "code",
   "execution_count": null,
   "id": "b649f87c",
   "metadata": {},
   "outputs": [],
   "source": [
    "# Define transformation (same as val_transforms from training)\n",
    "transform = transforms.Compose([\n",
    "    transforms.Resize((224, 224)),\n",
    "    transforms.ToTensor(),\n",
    "    transforms.Normalize(mean=[0.485, 0.456, 0.406],\n",
    "                         std=[0.229, 0.224, 0.225])\n",
    "])"
   ]
  },
  {
   "cell_type": "code",
   "execution_count": null,
   "id": "315aae33",
   "metadata": {},
   "outputs": [],
   "source": [
    "# Load image \n",
    "image_path = \"sample.jpg\"  # Replace with your test image\n",
    "image = Image.open(image_path).convert(\"RGB\")\n",
    "input_tensor = transform(image).unsqueeze(0).to(device)"
   ]
  },
  {
   "cell_type": "code",
   "execution_count": null,
   "id": "f98c39bc",
   "metadata": {},
   "outputs": [],
   "source": [
    "# Load the DaViT model and weights\n",
    "model_name = 'davit_base'\n",
    "model = timm.create_model(model_name, pretrained=False, num_classes=len(class_names))\n",
    "model.head.fc = torch.nn.Linear(model.head.in_features, len(class_names))\n",
    "model.load_state_dict(torch.load(\"models/final/DaViT_Base_Epoch_28.pth\", map_location=device))\n",
    "model = model.to(device)\n",
    "model.eval()"
   ]
  },
  {
   "cell_type": "code",
   "execution_count": null,
   "id": "9b4f1e42",
   "metadata": {},
   "outputs": [],
   "source": [
    "# Inference \n",
    "with torch.no_grad():\n",
    "    output = model(input_tensor)\n",
    "    predicted_index = torch.argmax(output, dim=1).item()\n",
    "    predicted_class = class_names[predicted_index]"
   ]
  },
  {
   "cell_type": "code",
   "execution_count": null,
   "id": "dfc843e9",
   "metadata": {},
   "outputs": [],
   "source": [
    "# Display results\n",
    "plt.imshow(image)\n",
    "plt.title(f\"Predicted Class: {predicted_class}\")\n",
    "plt.axis(\"off\")\n",
    "plt.show()\n",
    "\n",
    "print(f\"Predicted Class: {predicted_class}\")"
   ]
  }
 ],
 "metadata": {
  "kernelspec": {
   "display_name": "pomegranate",
   "language": "python",
   "name": "python3"
  },
  "language_info": {
   "name": "python",
   "version": "3.11.3"
  }
 },
 "nbformat": 4,
 "nbformat_minor": 5
}
